{
 "cells": [
  {
   "cell_type": "code",
   "execution_count": 1,
   "id": "0477f09e-1701-444f-8a87-26a5c3f6a419",
   "metadata": {},
   "outputs": [],
   "source": [
    "import pandas as pd"
   ]
  },
  {
   "cell_type": "code",
   "execution_count": 5,
   "id": "0d4dfc16-a91e-413b-ab32-fe1016fa6893",
   "metadata": {},
   "outputs": [],
   "source": [
    "df = pd.read_csv(\"Datasets/OSL Datasets/faa_ai_prelim.csv\")\n"
   ]
  },
  {
   "cell_type": "code",
   "execution_count": 4,
   "id": "55fdc369-6675-4e30-b797-5afc2e4c2681",
   "metadata": {},
   "outputs": [
    {
     "data": {
      "text/plain": [
       "(83, 42)"
      ]
     },
     "execution_count": 4,
     "metadata": {},
     "output_type": "execute_result"
    }
   ],
   "source": [
    "df.shape"
   ]
  },
  {
   "cell_type": "code",
   "execution_count": 6,
   "id": "ff05aa62-b4be-4586-bb56-201cc9b1d589",
   "metadata": {},
   "outputs": [
    {
     "data": {
      "text/html": [
       "<div>\n",
       "<style scoped>\n",
       "    .dataframe tbody tr th:only-of-type {\n",
       "        vertical-align: middle;\n",
       "    }\n",
       "\n",
       "    .dataframe tbody tr th {\n",
       "        vertical-align: top;\n",
       "    }\n",
       "\n",
       "    .dataframe thead th {\n",
       "        text-align: right;\n",
       "    }\n",
       "</style>\n",
       "<table border=\"1\" class=\"dataframe\">\n",
       "  <thead>\n",
       "    <tr style=\"text-align: right;\">\n",
       "      <th></th>\n",
       "      <th>UPDATED</th>\n",
       "      <th>ENTRY_DATE</th>\n",
       "      <th>EVENT_LCL_DATE</th>\n",
       "      <th>EVENT_LCL_TIME</th>\n",
       "      <th>LOC_CITY_NAME</th>\n",
       "      <th>LOC_STATE_NAME</th>\n",
       "      <th>LOC_CNTRY_NAME</th>\n",
       "      <th>RMK_TEXT</th>\n",
       "      <th>EVENT_TYPE_DESC</th>\n",
       "      <th>FSDO_DESC</th>\n",
       "      <th>...</th>\n",
       "      <th>PAX_INJ_NONE</th>\n",
       "      <th>PAX_INJ_MINOR</th>\n",
       "      <th>PAX_INJ_SERIOUS</th>\n",
       "      <th>PAX_INJ_FATAL</th>\n",
       "      <th>PAX_INJ_UNK</th>\n",
       "      <th>GRND_INJ_NONE</th>\n",
       "      <th>GRND_INJ_MINOR</th>\n",
       "      <th>GRND_INJ_SERIOUS</th>\n",
       "      <th>GRND_INJ_FATAL</th>\n",
       "      <th>GRND_INJ_UNK</th>\n",
       "    </tr>\n",
       "  </thead>\n",
       "  <tbody>\n",
       "    <tr>\n",
       "      <th>0</th>\n",
       "      <td>No</td>\n",
       "      <td>19-FEB-16</td>\n",
       "      <td>19-FEB-16</td>\n",
       "      <td>00:45:00Z</td>\n",
       "      <td>MARSHVILLE</td>\n",
       "      <td>North Carolina</td>\n",
       "      <td>NaN</td>\n",
       "      <td>AIRCRAFT CRASHED INTO TREES, THE 1 PERSON ON B...</td>\n",
       "      <td>Accident</td>\n",
       "      <td>FAA Charlotte FSDO-68</td>\n",
       "      <td>...</td>\n",
       "      <td>NaN</td>\n",
       "      <td>NaN</td>\n",
       "      <td>NaN</td>\n",
       "      <td>NaN</td>\n",
       "      <td>NaN</td>\n",
       "      <td>NaN</td>\n",
       "      <td>NaN</td>\n",
       "      <td>NaN</td>\n",
       "      <td>NaN</td>\n",
       "      <td>NaN</td>\n",
       "    </tr>\n",
       "    <tr>\n",
       "      <th>1</th>\n",
       "      <td>No</td>\n",
       "      <td>19-FEB-16</td>\n",
       "      <td>18-FEB-16</td>\n",
       "      <td>23:55:00Z</td>\n",
       "      <td>TAVERNIER</td>\n",
       "      <td>Florida</td>\n",
       "      <td>NaN</td>\n",
       "      <td>AIRCRAFT ON LANDING WENT OFF THE END OF THE RU...</td>\n",
       "      <td>Incident</td>\n",
       "      <td>FAA Miami FSDO-19</td>\n",
       "      <td>...</td>\n",
       "      <td>NaN</td>\n",
       "      <td>NaN</td>\n",
       "      <td>NaN</td>\n",
       "      <td>NaN</td>\n",
       "      <td>NaN</td>\n",
       "      <td>NaN</td>\n",
       "      <td>NaN</td>\n",
       "      <td>NaN</td>\n",
       "      <td>NaN</td>\n",
       "      <td>NaN</td>\n",
       "    </tr>\n",
       "    <tr>\n",
       "      <th>2</th>\n",
       "      <td>No</td>\n",
       "      <td>19-FEB-16</td>\n",
       "      <td>18-FEB-16</td>\n",
       "      <td>22:14:00Z</td>\n",
       "      <td>TRENTON</td>\n",
       "      <td>New Jersey</td>\n",
       "      <td>NaN</td>\n",
       "      <td>AIRCRAFT ON FINAL SUSTAINED A BIRD STRIKE, LAN...</td>\n",
       "      <td>Incident</td>\n",
       "      <td>FAA Philadelphia FSDO-17</td>\n",
       "      <td>...</td>\n",
       "      <td>NaN</td>\n",
       "      <td>NaN</td>\n",
       "      <td>NaN</td>\n",
       "      <td>NaN</td>\n",
       "      <td>NaN</td>\n",
       "      <td>NaN</td>\n",
       "      <td>NaN</td>\n",
       "      <td>NaN</td>\n",
       "      <td>NaN</td>\n",
       "      <td>NaN</td>\n",
       "    </tr>\n",
       "    <tr>\n",
       "      <th>3</th>\n",
       "      <td>No</td>\n",
       "      <td>19-FEB-16</td>\n",
       "      <td>18-FEB-16</td>\n",
       "      <td>17:10:00Z</td>\n",
       "      <td>ASHEVILLE</td>\n",
       "      <td>North Carolina</td>\n",
       "      <td>NaN</td>\n",
       "      <td>AIRCRAFT ON LANDING, GEAR COLLAPSED, ASHEVILLE...</td>\n",
       "      <td>Incident</td>\n",
       "      <td>FAA Charlotte FSDO-68</td>\n",
       "      <td>...</td>\n",
       "      <td>NaN</td>\n",
       "      <td>NaN</td>\n",
       "      <td>NaN</td>\n",
       "      <td>NaN</td>\n",
       "      <td>NaN</td>\n",
       "      <td>NaN</td>\n",
       "      <td>NaN</td>\n",
       "      <td>NaN</td>\n",
       "      <td>NaN</td>\n",
       "      <td>NaN</td>\n",
       "    </tr>\n",
       "    <tr>\n",
       "      <th>4</th>\n",
       "      <td>No</td>\n",
       "      <td>19-FEB-16</td>\n",
       "      <td>18-FEB-16</td>\n",
       "      <td>00:26:00Z</td>\n",
       "      <td>TALKEETNA</td>\n",
       "      <td>Alaska</td>\n",
       "      <td>NaN</td>\n",
       "      <td>AIRCRAFT ON LANDING, NOSE GEAR COLLAPSED, TALK...</td>\n",
       "      <td>Incident</td>\n",
       "      <td>FAA Anchorage FSDO-03</td>\n",
       "      <td>...</td>\n",
       "      <td>NaN</td>\n",
       "      <td>1.0</td>\n",
       "      <td>NaN</td>\n",
       "      <td>NaN</td>\n",
       "      <td>NaN</td>\n",
       "      <td>NaN</td>\n",
       "      <td>NaN</td>\n",
       "      <td>NaN</td>\n",
       "      <td>NaN</td>\n",
       "      <td>NaN</td>\n",
       "    </tr>\n",
       "  </tbody>\n",
       "</table>\n",
       "<p>5 rows × 42 columns</p>\n",
       "</div>"
      ],
      "text/plain": [
       "  UPDATED ENTRY_DATE EVENT_LCL_DATE EVENT_LCL_TIME LOC_CITY_NAME  \\\n",
       "0      No  19-FEB-16      19-FEB-16      00:45:00Z    MARSHVILLE   \n",
       "1      No  19-FEB-16      18-FEB-16      23:55:00Z     TAVERNIER   \n",
       "2      No  19-FEB-16      18-FEB-16      22:14:00Z       TRENTON   \n",
       "3      No  19-FEB-16      18-FEB-16      17:10:00Z     ASHEVILLE   \n",
       "4      No  19-FEB-16      18-FEB-16      00:26:00Z     TALKEETNA   \n",
       "\n",
       "   LOC_STATE_NAME LOC_CNTRY_NAME  \\\n",
       "0  North Carolina            NaN   \n",
       "1         Florida            NaN   \n",
       "2      New Jersey            NaN   \n",
       "3  North Carolina            NaN   \n",
       "4          Alaska            NaN   \n",
       "\n",
       "                                            RMK_TEXT EVENT_TYPE_DESC  \\\n",
       "0  AIRCRAFT CRASHED INTO TREES, THE 1 PERSON ON B...        Accident   \n",
       "1  AIRCRAFT ON LANDING WENT OFF THE END OF THE RU...        Incident   \n",
       "2  AIRCRAFT ON FINAL SUSTAINED A BIRD STRIKE, LAN...        Incident   \n",
       "3  AIRCRAFT ON LANDING, GEAR COLLAPSED, ASHEVILLE...        Incident   \n",
       "4  AIRCRAFT ON LANDING, NOSE GEAR COLLAPSED, TALK...        Incident   \n",
       "\n",
       "                  FSDO_DESC  ... PAX_INJ_NONE PAX_INJ_MINOR PAX_INJ_SERIOUS  \\\n",
       "0     FAA Charlotte FSDO-68  ...          NaN           NaN             NaN   \n",
       "1         FAA Miami FSDO-19  ...          NaN           NaN             NaN   \n",
       "2  FAA Philadelphia FSDO-17  ...          NaN           NaN             NaN   \n",
       "3     FAA Charlotte FSDO-68  ...          NaN           NaN             NaN   \n",
       "4     FAA Anchorage FSDO-03  ...          NaN           1.0             NaN   \n",
       "\n",
       "  PAX_INJ_FATAL PAX_INJ_UNK  GRND_INJ_NONE GRND_INJ_MINOR GRND_INJ_SERIOUS  \\\n",
       "0           NaN         NaN            NaN            NaN              NaN   \n",
       "1           NaN         NaN            NaN            NaN              NaN   \n",
       "2           NaN         NaN            NaN            NaN              NaN   \n",
       "3           NaN         NaN            NaN            NaN              NaN   \n",
       "4           NaN         NaN            NaN            NaN              NaN   \n",
       "\n",
       "  GRND_INJ_FATAL  GRND_INJ_UNK  \n",
       "0            NaN           NaN  \n",
       "1            NaN           NaN  \n",
       "2            NaN           NaN  \n",
       "3            NaN           NaN  \n",
       "4            NaN           NaN  \n",
       "\n",
       "[5 rows x 42 columns]"
      ]
     },
     "execution_count": 6,
     "metadata": {},
     "output_type": "execute_result"
    }
   ],
   "source": [
    "df.head(5)"
   ]
  },
  {
   "cell_type": "code",
   "execution_count": 9,
   "id": "cbb0aea3-c04f-4ba5-a5fd-1d595bf61adc",
   "metadata": {},
   "outputs": [
    {
     "data": {
      "text/plain": [
       "Index(['UPDATED', 'ENTRY_DATE', 'EVENT_LCL_DATE', 'EVENT_LCL_TIME',\n",
       "       'LOC_CITY_NAME', 'LOC_STATE_NAME', 'LOC_CNTRY_NAME', 'RMK_TEXT',\n",
       "       'EVENT_TYPE_DESC', 'FSDO_DESC', 'REGIST_NBR', 'FLT_NBR', 'ACFT_OPRTR',\n",
       "       'ACFT_MAKE_NAME', 'ACFT_MODEL_NAME', 'ACFT_MISSING_FLAG',\n",
       "       'ACFT_DMG_DESC', 'FLT_ACTIVITY', 'FLT_PHASE', 'FAR_PART', 'MAX_INJ_LVL',\n",
       "       'FATAL_FLAG', 'FLT_CRW_INJ_NONE', 'FLT_CRW_INJ_MINOR',\n",
       "       'FLT_CRW_INJ_SERIOUS', 'FLT_CRW_INJ_FATAL', 'FLT_CRW_INJ_UNK',\n",
       "       'CBN_CRW_INJ_NONE', 'CBN_CRW_INJ_MINOR', 'CBN_CRW_INJ_SERIOUS',\n",
       "       'CBN_CRW_INJ_FATAL', 'CBN_CRW_INJ_UNK', 'PAX_INJ_NONE', 'PAX_INJ_MINOR',\n",
       "       'PAX_INJ_SERIOUS', 'PAX_INJ_FATAL', 'PAX_INJ_UNK', 'GRND_INJ_NONE',\n",
       "       'GRND_INJ_MINOR', 'GRND_INJ_SERIOUS', 'GRND_INJ_FATAL', 'GRND_INJ_UNK'],\n",
       "      dtype='object')"
      ]
     },
     "execution_count": 9,
     "metadata": {},
     "output_type": "execute_result"
    }
   ],
   "source": [
    "df.columns"
   ]
  },
  {
   "cell_type": "code",
   "execution_count": 20,
   "id": "8135f588-9dc5-434a-bbcd-c69716eae7f9",
   "metadata": {},
   "outputs": [
    {
     "data": {
      "text/html": [
       "<div>\n",
       "<style scoped>\n",
       "    .dataframe tbody tr th:only-of-type {\n",
       "        vertical-align: middle;\n",
       "    }\n",
       "\n",
       "    .dataframe tbody tr th {\n",
       "        vertical-align: top;\n",
       "    }\n",
       "\n",
       "    .dataframe thead th {\n",
       "        text-align: right;\n",
       "    }\n",
       "</style>\n",
       "<table border=\"1\" class=\"dataframe\">\n",
       "  <thead>\n",
       "    <tr style=\"text-align: right;\">\n",
       "      <th></th>\n",
       "      <th>LOC_STATE_NAME</th>\n",
       "      <th>RMK_TEXT</th>\n",
       "      <th>EVENT_TYPE_DESC</th>\n",
       "      <th>ACFT_MAKE_NAME</th>\n",
       "      <th>ACFT_MODEL_NAME</th>\n",
       "      <th>FLT_PHASE</th>\n",
       "      <th>FATAL_FLAG</th>\n",
       "    </tr>\n",
       "  </thead>\n",
       "  <tbody>\n",
       "    <tr>\n",
       "      <th>0</th>\n",
       "      <td>North Carolina</td>\n",
       "      <td>AIRCRAFT CRASHED INTO TREES, THE 1 PERSON ON B...</td>\n",
       "      <td>Accident</td>\n",
       "      <td>BEECH</td>\n",
       "      <td>36</td>\n",
       "      <td>UNKNOWN (UNK)</td>\n",
       "      <td>Yes</td>\n",
       "    </tr>\n",
       "    <tr>\n",
       "      <th>1</th>\n",
       "      <td>Florida</td>\n",
       "      <td>AIRCRAFT ON LANDING WENT OFF THE END OF THE RU...</td>\n",
       "      <td>Incident</td>\n",
       "      <td>VANS</td>\n",
       "      <td>RV7</td>\n",
       "      <td>LANDING (LDG)</td>\n",
       "      <td>NaN</td>\n",
       "    </tr>\n",
       "  </tbody>\n",
       "</table>\n",
       "</div>"
      ],
      "text/plain": [
       "   LOC_STATE_NAME                                           RMK_TEXT  \\\n",
       "0  North Carolina  AIRCRAFT CRASHED INTO TREES, THE 1 PERSON ON B...   \n",
       "1         Florida  AIRCRAFT ON LANDING WENT OFF THE END OF THE RU...   \n",
       "\n",
       "  EVENT_TYPE_DESC ACFT_MAKE_NAME ACFT_MODEL_NAME      FLT_PHASE FATAL_FLAG  \n",
       "0        Accident          BEECH              36  UNKNOWN (UNK)        Yes  \n",
       "1        Incident           VANS             RV7  LANDING (LDG)        NaN  "
      ]
     },
     "execution_count": 20,
     "metadata": {},
     "output_type": "execute_result"
    }
   ],
   "source": [
    "df2 = df[['LOC_STATE_NAME','RMK_TEXT','EVENT_TYPE_DESC','ACFT_MAKE_NAME','ACFT_MODEL_NAME','FLT_PHASE','FATAL_FLAG']]\n",
    "df2.head(2)"
   ]
  },
  {
   "cell_type": "code",
   "execution_count": 21,
   "id": "b7a7ce47-6a5f-4f7a-9435-d6f8d9c6fd8e",
   "metadata": {},
   "outputs": [
    {
     "data": {
      "text/plain": [
       "pandas.core.frame.DataFrame"
      ]
     },
     "execution_count": 21,
     "metadata": {},
     "output_type": "execute_result"
    }
   ],
   "source": [
    "type(df2)"
   ]
  },
  {
   "cell_type": "code",
   "execution_count": 24,
   "id": "23d53ec4-4196-4667-a4b1-d0ee6414f8bb",
   "metadata": {},
   "outputs": [
    {
     "name": "stderr",
     "output_type": "stream",
     "text": [
      "C:\\Users\\nvkar\\anaconda3\\lib\\site-packages\\pandas\\core\\generic.py:6392: SettingWithCopyWarning: \n",
      "A value is trying to be set on a copy of a slice from a DataFrame\n",
      "\n",
      "See the caveats in the documentation: https://pandas.pydata.org/pandas-docs/stable/user_guide/indexing.html#returning-a-view-versus-a-copy\n",
      "  return self._update_inplace(result)\n"
     ]
    },
    {
     "data": {
      "text/html": [
       "<div>\n",
       "<style scoped>\n",
       "    .dataframe tbody tr th:only-of-type {\n",
       "        vertical-align: middle;\n",
       "    }\n",
       "\n",
       "    .dataframe tbody tr th {\n",
       "        vertical-align: top;\n",
       "    }\n",
       "\n",
       "    .dataframe thead th {\n",
       "        text-align: right;\n",
       "    }\n",
       "</style>\n",
       "<table border=\"1\" class=\"dataframe\">\n",
       "  <thead>\n",
       "    <tr style=\"text-align: right;\">\n",
       "      <th></th>\n",
       "      <th>LOC_STATE_NAME</th>\n",
       "      <th>RMK_TEXT</th>\n",
       "      <th>EVENT_TYPE_DESC</th>\n",
       "      <th>ACFT_MAKE_NAME</th>\n",
       "      <th>ACFT_MODEL_NAME</th>\n",
       "      <th>FLT_PHASE</th>\n",
       "      <th>FATAL_FLAG</th>\n",
       "    </tr>\n",
       "  </thead>\n",
       "  <tbody>\n",
       "    <tr>\n",
       "      <th>0</th>\n",
       "      <td>North Carolina</td>\n",
       "      <td>AIRCRAFT CRASHED INTO TREES, THE 1 PERSON ON B...</td>\n",
       "      <td>Accident</td>\n",
       "      <td>BEECH</td>\n",
       "      <td>36</td>\n",
       "      <td>UNKNOWN (UNK)</td>\n",
       "      <td>Yes</td>\n",
       "    </tr>\n",
       "    <tr>\n",
       "      <th>1</th>\n",
       "      <td>Florida</td>\n",
       "      <td>AIRCRAFT ON LANDING WENT OFF THE END OF THE RU...</td>\n",
       "      <td>Incident</td>\n",
       "      <td>VANS</td>\n",
       "      <td>RV7</td>\n",
       "      <td>LANDING (LDG)</td>\n",
       "      <td>No</td>\n",
       "    </tr>\n",
       "    <tr>\n",
       "      <th>2</th>\n",
       "      <td>New Jersey</td>\n",
       "      <td>AIRCRAFT ON FINAL SUSTAINED A BIRD STRIKE, LAN...</td>\n",
       "      <td>Incident</td>\n",
       "      <td>CESSNA</td>\n",
       "      <td>172</td>\n",
       "      <td>APPROACH (APR)</td>\n",
       "      <td>No</td>\n",
       "    </tr>\n",
       "    <tr>\n",
       "      <th>3</th>\n",
       "      <td>North Carolina</td>\n",
       "      <td>AIRCRAFT ON LANDING, GEAR COLLAPSED, ASHEVILLE...</td>\n",
       "      <td>Incident</td>\n",
       "      <td>LANCAIR</td>\n",
       "      <td>235</td>\n",
       "      <td>LANDING (LDG)</td>\n",
       "      <td>No</td>\n",
       "    </tr>\n",
       "    <tr>\n",
       "      <th>4</th>\n",
       "      <td>Alaska</td>\n",
       "      <td>AIRCRAFT ON LANDING, NOSE GEAR COLLAPSED, TALK...</td>\n",
       "      <td>Incident</td>\n",
       "      <td>CESSNA</td>\n",
       "      <td>172</td>\n",
       "      <td>LANDING (LDG)</td>\n",
       "      <td>No</td>\n",
       "    </tr>\n",
       "  </tbody>\n",
       "</table>\n",
       "</div>"
      ],
      "text/plain": [
       "   LOC_STATE_NAME                                           RMK_TEXT  \\\n",
       "0  North Carolina  AIRCRAFT CRASHED INTO TREES, THE 1 PERSON ON B...   \n",
       "1         Florida  AIRCRAFT ON LANDING WENT OFF THE END OF THE RU...   \n",
       "2      New Jersey  AIRCRAFT ON FINAL SUSTAINED A BIRD STRIKE, LAN...   \n",
       "3  North Carolina  AIRCRAFT ON LANDING, GEAR COLLAPSED, ASHEVILLE...   \n",
       "4          Alaska  AIRCRAFT ON LANDING, NOSE GEAR COLLAPSED, TALK...   \n",
       "\n",
       "  EVENT_TYPE_DESC ACFT_MAKE_NAME ACFT_MODEL_NAME       FLT_PHASE FATAL_FLAG  \n",
       "0        Accident          BEECH              36   UNKNOWN (UNK)        Yes  \n",
       "1        Incident           VANS             RV7   LANDING (LDG)         No  \n",
       "2        Incident         CESSNA             172  APPROACH (APR)         No  \n",
       "3        Incident        LANCAIR             235   LANDING (LDG)         No  \n",
       "4        Incident         CESSNA             172   LANDING (LDG)         No  "
      ]
     },
     "execution_count": 24,
     "metadata": {},
     "output_type": "execute_result"
    }
   ],
   "source": [
    "df2['FATAL_FLAG'].fillna(value='No',inplace=True)\n",
    "df2.head()"
   ]
  },
  {
   "cell_type": "code",
   "execution_count": 25,
   "id": "5f6691d3-0f17-43de-84d2-e5466c20e70e",
   "metadata": {},
   "outputs": [
    {
     "data": {
      "text/plain": [
       "(83, 7)"
      ]
     },
     "execution_count": 25,
     "metadata": {},
     "output_type": "execute_result"
    }
   ],
   "source": [
    "df2.shape"
   ]
  },
  {
   "cell_type": "code",
   "execution_count": 62,
   "id": "dd65d1aa-dd74-4c0e-83ef-fc962dba1077",
   "metadata": {},
   "outputs": [
    {
     "data": {
      "text/plain": [
       "array(['UNKNOWN (UNK)', 'LANDING (LDG)', 'APPROACH (APR)',\n",
       "       'TAKEOFF (TOF)', 'TAXI (TXI)', 'STANDING (STD)', nan], dtype=object)"
      ]
     },
     "execution_count": 62,
     "metadata": {},
     "output_type": "execute_result"
    }
   ],
   "source": [
    "df2['FLT_PHASE'].unique()"
   ]
  },
  {
   "cell_type": "code",
   "execution_count": 48,
   "id": "8fe915d3-455d-425d-87c7-be2c389e7534",
   "metadata": {},
   "outputs": [],
   "source": [
    "df3 = df2.dropna(subset=[\"ACFT_MAKE_NAME\"])"
   ]
  },
  {
   "cell_type": "code",
   "execution_count": 49,
   "id": "6d1d5bef-fc47-41a0-9a82-f7bde7484d2f",
   "metadata": {},
   "outputs": [
    {
     "data": {
      "text/plain": [
       "(78, 7)"
      ]
     },
     "execution_count": 49,
     "metadata": {},
     "output_type": "execute_result"
    }
   ],
   "source": [
    "df3.shape"
   ]
  },
  {
   "cell_type": "code",
   "execution_count": 52,
   "id": "e2a7d5c1-9ab0-4483-9a46-f5675879900a",
   "metadata": {},
   "outputs": [],
   "source": [
    "group_name = df3.groupby(['ACFT_MAKE_NAME'])"
   ]
  },
  {
   "cell_type": "code",
   "execution_count": 57,
   "id": "b98104ba-b9c1-41d7-83e1-4618318d1b40",
   "metadata": {},
   "outputs": [
    {
     "data": {
      "text/plain": [
       "ACFT_MAKE_NAME\n",
       "AERO COMMANDER             1\n",
       "AERONCA                    1\n",
       "AEROSTAR INTERNATIONAL     1\n",
       "AIRBUS                     1\n",
       "BEECH                      9\n",
       "BELL                       2\n",
       "BOEING                     3\n",
       "CESSNA                    23\n",
       "CHAMPION                   2\n",
       "CHRISTEN                   1\n",
       "CONSOLIDATED VULTEE        1\n",
       "EMBRAER                    1\n",
       "ENSTROM                    1\n",
       "FAIRCHILD                  1\n",
       "FLIGHT DESIGN              1\n",
       "GLOBE                      1\n",
       "GREAT LAKES                1\n",
       "GRUMMAN                    1\n",
       "GULFSTREAM                 1\n",
       "HUGHES                     1\n",
       "LANCAIR                    2\n",
       "MAULE                      1\n",
       "MOONEY                     4\n",
       "NORTH AMERICAN             1\n",
       "PIPER                     10\n",
       "PITTS                      1\n",
       "SAAB                       1\n",
       "SABRELINER                 1\n",
       "SOCATA                     2\n",
       "VANS                       1\n",
       "dtype: int64"
      ]
     },
     "execution_count": 57,
     "metadata": {},
     "output_type": "execute_result"
    }
   ],
   "source": [
    "group_name.size()"
   ]
  },
  {
   "cell_type": "code",
   "execution_count": 60,
   "id": "b72aadd7-b1b6-4dcc-93ca-f06f82a5f6e1",
   "metadata": {},
   "outputs": [],
   "source": [
    "group_flag = df3.groupby('FATAL_FLAG')"
   ]
  },
  {
   "cell_type": "code",
   "execution_count": 61,
   "id": "d727363a-8960-443f-aa33-271b73ddc094",
   "metadata": {},
   "outputs": [
    {
     "data": {
      "text/plain": [
       "FATAL_FLAG\n",
       "No     71\n",
       "Yes     7\n",
       "dtype: int64"
      ]
     },
     "execution_count": 61,
     "metadata": {},
     "output_type": "execute_result"
    }
   ],
   "source": [
    "group_flag.size()"
   ]
  },
  {
   "cell_type": "code",
   "execution_count": 72,
   "id": "2eb977e7-95e1-4085-a334-db0149d8ffad",
   "metadata": {},
   "outputs": [],
   "source": [
    "yes_fatal = group_flag.get_group('Yes')"
   ]
  },
  {
   "cell_type": "code",
   "execution_count": 74,
   "id": "436e0e20-9310-485b-936f-d36142c245ff",
   "metadata": {},
   "outputs": [
    {
     "data": {
      "text/html": [
       "<div>\n",
       "<style scoped>\n",
       "    .dataframe tbody tr th:only-of-type {\n",
       "        vertical-align: middle;\n",
       "    }\n",
       "\n",
       "    .dataframe tbody tr th {\n",
       "        vertical-align: top;\n",
       "    }\n",
       "\n",
       "    .dataframe thead th {\n",
       "        text-align: right;\n",
       "    }\n",
       "</style>\n",
       "<table border=\"1\" class=\"dataframe\">\n",
       "  <thead>\n",
       "    <tr style=\"text-align: right;\">\n",
       "      <th></th>\n",
       "      <th>LOC_STATE_NAME</th>\n",
       "      <th>RMK_TEXT</th>\n",
       "      <th>EVENT_TYPE_DESC</th>\n",
       "      <th>ACFT_MAKE_NAME</th>\n",
       "      <th>ACFT_MODEL_NAME</th>\n",
       "      <th>FLT_PHASE</th>\n",
       "      <th>FATAL_FLAG</th>\n",
       "    </tr>\n",
       "  </thead>\n",
       "  <tbody>\n",
       "    <tr>\n",
       "      <th>0</th>\n",
       "      <td>North Carolina</td>\n",
       "      <td>AIRCRAFT CRASHED INTO TREES, THE 1 PERSON ON B...</td>\n",
       "      <td>Accident</td>\n",
       "      <td>BEECH</td>\n",
       "      <td>36</td>\n",
       "      <td>UNKNOWN (UNK)</td>\n",
       "      <td>Yes</td>\n",
       "    </tr>\n",
       "    <tr>\n",
       "      <th>53</th>\n",
       "      <td>Florida</td>\n",
       "      <td>AIRCRAFT CRASHED UNDER UNKNOWN CIRCUMSTANCES. ...</td>\n",
       "      <td>Accident</td>\n",
       "      <td>PIPER</td>\n",
       "      <td>PA28</td>\n",
       "      <td>UNKNOWN (UNK)</td>\n",
       "      <td>Yes</td>\n",
       "    </tr>\n",
       "    <tr>\n",
       "      <th>55</th>\n",
       "      <td>California</td>\n",
       "      <td>AIRCRAFT CRASHED UNDER UNKNOWN CIRCUMSTANCES A...</td>\n",
       "      <td>Accident</td>\n",
       "      <td>FLIGHT DESIGN</td>\n",
       "      <td>CTLS</td>\n",
       "      <td>UNKNOWN (UNK)</td>\n",
       "      <td>Yes</td>\n",
       "    </tr>\n",
       "    <tr>\n",
       "      <th>79</th>\n",
       "      <td>Arizona</td>\n",
       "      <td>AIRCRAFT CRASHED UNDER UNKNOWN CIRCUMSTANCES, ...</td>\n",
       "      <td>Accident</td>\n",
       "      <td>NORTH AMERICAN</td>\n",
       "      <td>F51</td>\n",
       "      <td>UNKNOWN (UNK)</td>\n",
       "      <td>Yes</td>\n",
       "    </tr>\n",
       "    <tr>\n",
       "      <th>80</th>\n",
       "      <td>California</td>\n",
       "      <td>N9872R, BEECH M35 AIRCRAFT, AND N5057G, BELLAN...</td>\n",
       "      <td>Accident</td>\n",
       "      <td>CHAMPION</td>\n",
       "      <td>8KCAB</td>\n",
       "      <td>UNKNOWN (UNK)</td>\n",
       "      <td>Yes</td>\n",
       "    </tr>\n",
       "    <tr>\n",
       "      <th>81</th>\n",
       "      <td>California</td>\n",
       "      <td>N9872R, BEECH M35 AIRCRAFT, AND N5057G, BELLAN...</td>\n",
       "      <td>Accident</td>\n",
       "      <td>BEECH</td>\n",
       "      <td>35</td>\n",
       "      <td>UNKNOWN (UNK)</td>\n",
       "      <td>Yes</td>\n",
       "    </tr>\n",
       "    <tr>\n",
       "      <th>82</th>\n",
       "      <td>Alabama</td>\n",
       "      <td>N784CP AIRCRAFT CRASHED INTO A WOODED AREA NEA...</td>\n",
       "      <td>Accident</td>\n",
       "      <td>CESSNA</td>\n",
       "      <td>182</td>\n",
       "      <td>UNKNOWN (UNK)</td>\n",
       "      <td>Yes</td>\n",
       "    </tr>\n",
       "  </tbody>\n",
       "</table>\n",
       "</div>"
      ],
      "text/plain": [
       "    LOC_STATE_NAME                                           RMK_TEXT  \\\n",
       "0   North Carolina  AIRCRAFT CRASHED INTO TREES, THE 1 PERSON ON B...   \n",
       "53         Florida  AIRCRAFT CRASHED UNDER UNKNOWN CIRCUMSTANCES. ...   \n",
       "55      California  AIRCRAFT CRASHED UNDER UNKNOWN CIRCUMSTANCES A...   \n",
       "79         Arizona  AIRCRAFT CRASHED UNDER UNKNOWN CIRCUMSTANCES, ...   \n",
       "80      California  N9872R, BEECH M35 AIRCRAFT, AND N5057G, BELLAN...   \n",
       "81      California  N9872R, BEECH M35 AIRCRAFT, AND N5057G, BELLAN...   \n",
       "82         Alabama  N784CP AIRCRAFT CRASHED INTO A WOODED AREA NEA...   \n",
       "\n",
       "   EVENT_TYPE_DESC  ACFT_MAKE_NAME ACFT_MODEL_NAME      FLT_PHASE FATAL_FLAG  \n",
       "0         Accident           BEECH              36  UNKNOWN (UNK)        Yes  \n",
       "53        Accident           PIPER            PA28  UNKNOWN (UNK)        Yes  \n",
       "55        Accident   FLIGHT DESIGN            CTLS  UNKNOWN (UNK)        Yes  \n",
       "79        Accident  NORTH AMERICAN             F51  UNKNOWN (UNK)        Yes  \n",
       "80        Accident        CHAMPION           8KCAB  UNKNOWN (UNK)        Yes  \n",
       "81        Accident           BEECH              35  UNKNOWN (UNK)        Yes  \n",
       "82        Accident          CESSNA             182  UNKNOWN (UNK)        Yes  "
      ]
     },
     "execution_count": 74,
     "metadata": {},
     "output_type": "execute_result"
    }
   ],
   "source": [
    "yes_fatal"
   ]
  },
  {
   "cell_type": "code",
   "execution_count": null,
   "id": "55caff84-c862-4abd-990b-8288a81db184",
   "metadata": {},
   "outputs": [],
   "source": []
  }
 ],
 "metadata": {
  "kernelspec": {
   "display_name": "Python 3",
   "language": "python",
   "name": "python3"
  },
  "language_info": {
   "codemirror_mode": {
    "name": "ipython",
    "version": 3
   },
   "file_extension": ".py",
   "mimetype": "text/x-python",
   "name": "python",
   "nbconvert_exporter": "python",
   "pygments_lexer": "ipython3",
   "version": "3.7.6"
  }
 },
 "nbformat": 4,
 "nbformat_minor": 5
}
