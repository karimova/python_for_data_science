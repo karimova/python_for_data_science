{
 "cells": [
  {
   "cell_type": "code",
   "execution_count": 1,
   "id": "a9a1e834-9711-4e1e-8802-a5f209f5a2ab",
   "metadata": {},
   "outputs": [],
   "source": [
    "import pandas as pd"
   ]
  },
  {
   "cell_type": "code",
   "execution_count": 2,
   "id": "43cb90d2-1396-4b50-82cb-2da236c44436",
   "metadata": {},
   "outputs": [],
   "source": [
    "df = pd.read_csv('World_Happiness_2015.csv')"
   ]
  },
  {
   "cell_type": "markdown",
   "id": "c641cd6c-6fa0-472c-85bc-7fa09af2229f",
   "metadata": {},
   "source": [
    "Which of the factors above contribute the most to the happiness score?\n",
    "\n",
    "-Economy (GDP per Capita)\n",
    "-Family\n",
    "-Health (Life Expectancy)\n",
    "-Freedom\n",
    "-Trust (Government Corruption)\n",
    "-Generosity"
   ]
  },
  {
   "cell_type": "markdown",
   "id": "233665f5-2a77-4051-b709-dd5489bac3a3",
   "metadata": {},
   "source": [
    "### To answer this question, we need to manipulate our data into a format that makes it easier to analyze\n",
    "\n",
    "-Series.map() \n",
    "\n",
    "-Series.apply() \n",
    "\n",
    "-DataFrame.applymap() \n",
    "\n",
    "-DataFrame.apply() \n",
    "\n",
    "-pd.melt() "
   ]
  },
  {
   "cell_type": "code",
   "execution_count": null,
   "id": "ba391a7d-1ee2-4a08-9caa-0623f1e431da",
   "metadata": {},
   "outputs": [],
   "source": [
    "def label(element):\n",
    "    if element > 1:\n",
    "        return 'High'\n",
    "    else:\n",
    "        return 'Low'\n",
    "    \n",
    "economy_impact_map = happiness2015['Economy'].map(label)\n",
    "economy_impact_apply = happiness2015['Economy'].apply(label)\n",
    "\n",
    "#to check if Series1 = Series2\n",
    "equal = economy_impact_map.equals(economy_impact_apply)"
   ]
  },
  {
   "cell_type": "code",
   "execution_count": null,
   "id": "48fe8df2-14b4-41d0-80ca-105ff0c8af41",
   "metadata": {},
   "outputs": [],
   "source": []
  },
  {
   "cell_type": "code",
   "execution_count": null,
   "id": "224e41f7-f259-4ac5-b69a-da3b1c1fc8e9",
   "metadata": {},
   "outputs": [],
   "source": []
  }
 ],
 "metadata": {
  "kernelspec": {
   "display_name": "Python 3",
   "language": "python",
   "name": "python3"
  },
  "language_info": {
   "codemirror_mode": {
    "name": "ipython",
    "version": 3
   },
   "file_extension": ".py",
   "mimetype": "text/x-python",
   "name": "python",
   "nbconvert_exporter": "python",
   "pygments_lexer": "ipython3",
   "version": "3.7.6"
  }
 },
 "nbformat": 4,
 "nbformat_minor": 5
}
